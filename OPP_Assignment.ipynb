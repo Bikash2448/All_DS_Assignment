{
 "cells": [
  {
   "cell_type": "markdown",
   "id": "ca437c22-e6a1-4358-8075-5bd2b23f8d4d",
   "metadata": {},
   "source": [
    "# Q1. Explain Class and Object with respect to Object-Oriented Programming. Give a suitable example."
   ]
  },
  {
   "cell_type": "raw",
   "id": "dc8d9457-a4b0-49d6-b469-0cab9e489b1e",
   "metadata": {},
   "source": [
    "Class is Blueprint of Real world entity. using created class we define the Structure.\n",
    "Object is an instance of class.it real world entity."
   ]
  },
  {
   "cell_type": "code",
   "execution_count": 7,
   "id": "46aeda91-3701-4266-a83e-25aeb2377ce3",
   "metadata": {},
   "outputs": [],
   "source": [
    "class student:\n",
    "    def __init__(self,name):\n",
    "        self.name = name\n",
    "\n",
    "    def my_name(self):\n",
    "        return \"My name is  \" ,self.name "
   ]
  },
  {
   "cell_type": "code",
   "execution_count": 8,
   "id": "b18994db-ffa5-4972-962e-5a0466e6a877",
   "metadata": {},
   "outputs": [],
   "source": [
    "std = student(\"Bikash\")"
   ]
  },
  {
   "cell_type": "code",
   "execution_count": 9,
   "id": "622586ae-355a-4d76-93b2-b521294cfc23",
   "metadata": {},
   "outputs": [
    {
     "data": {
      "text/plain": [
       "('My name is  ', 'Bikash')"
      ]
     },
     "execution_count": 9,
     "metadata": {},
     "output_type": "execute_result"
    }
   ],
   "source": [
    "std.my_name()"
   ]
  },
  {
   "cell_type": "markdown",
   "id": "77690dec-3aef-4d9f-b990-1d679327d86d",
   "metadata": {},
   "source": [
    "# Q2. Name the four pillars of OOPs"
   ]
  },
  {
   "cell_type": "raw",
   "id": "2ec51652-040e-479f-a267-5c3b3fca32a8",
   "metadata": {},
   "source": [
    "1. Inheritace\n",
    "2. Polymorphism\n",
    "3. Abstraction\n",
    "4. Encapsulation\n"
   ]
  },
  {
   "cell_type": "markdown",
   "id": "bb9e8dd6-76a6-4030-ab98-0362b3fdcae1",
   "metadata": {},
   "source": [
    "# Q3. Explain why the __init__() function is used. Give a suitable example"
   ]
  },
  {
   "cell_type": "raw",
   "id": "df649b86-b4d7-47a1-918f-40a4ff42e39b",
   "metadata": {},
   "source": [
    "init() function is the constructor. \n",
    "using init() we initialize the object when created."
   ]
  },
  {
   "cell_type": "code",
   "execution_count": 13,
   "id": "0492f540-2f0f-4442-a84d-60b655c3cdca",
   "metadata": {},
   "outputs": [],
   "source": [
    "class abc:\n",
    "    def __init__(self, price):\n",
    "        self.price = price\n",
    "\n",
    "    def view_price(self):\n",
    "        return self.price"
   ]
  },
  {
   "cell_type": "code",
   "execution_count": 14,
   "id": "7c721936-70b8-45f6-8ab2-a776b68ecc2e",
   "metadata": {},
   "outputs": [],
   "source": [
    "a = abc(500)"
   ]
  },
  {
   "cell_type": "code",
   "execution_count": 15,
   "id": "8f2d4bf6-685e-4d83-9999-a1913b8f451e",
   "metadata": {},
   "outputs": [
    {
     "data": {
      "text/plain": [
       "500"
      ]
     },
     "execution_count": 15,
     "metadata": {},
     "output_type": "execute_result"
    }
   ],
   "source": [
    "a.view_price()"
   ]
  },
  {
   "cell_type": "markdown",
   "id": "b2b23b31-433d-4d8b-a455-523c335bb23f",
   "metadata": {},
   "source": [
    "# Q4. Why self is used in OOPs?"
   ]
  },
  {
   "cell_type": "raw",
   "id": "6f3f4a7e-b1ef-43d9-9bbd-4ffbedef2723",
   "metadata": {},
   "source": [
    "self is use refer to the instance class.\n",
    "\n",
    "it allows accesing the variable and method in class.\n",
    "self is not a keyword, we can use any name replace of self."
   ]
  },
  {
   "cell_type": "markdown",
   "id": "a1778ddd-84fa-4407-8d89-7473c5d76b59",
   "metadata": {},
   "source": [
    "# Q5. What is inheritance? Give an example for each type of inheritance"
   ]
  },
  {
   "cell_type": "raw",
   "id": "59ed81e4-49cd-4b75-8292-9d76bb56d085",
   "metadata": {},
   "source": [
    "inheritance allows the child class to inherite the parent class property like method,attribute.\n",
    "type of inheritance --  1) single inheritance\n",
    "                        2) multiple inheritance\n",
    "                        3) multilevel inheritance\n"
   ]
  },
  {
   "cell_type": "code",
   "execution_count": 17,
   "id": "1885c7aa-89c1-488a-9ebe-8e790ccdfe53",
   "metadata": {},
   "outputs": [],
   "source": [
    "class parent:\n",
    "    a = 20\n",
    "    def name(self):\n",
    "        print(\"This is Parent class method\")"
   ]
  },
  {
   "cell_type": "code",
   "execution_count": 18,
   "id": "047a5cb4-9e47-47ba-8892-3a6500c9dd3e",
   "metadata": {},
   "outputs": [],
   "source": [
    "class child(parent):\n",
    "    b = 40\n",
    "    def name(self):\n",
    "        print(\"This is child class method\")"
   ]
  },
  {
   "cell_type": "code",
   "execution_count": 19,
   "id": "eb6aef0d-036c-46c7-b6d1-2a8708e838e7",
   "metadata": {},
   "outputs": [],
   "source": [
    "ch1= child()"
   ]
  },
  {
   "cell_type": "code",
   "execution_count": 24,
   "id": "926a2c02-7858-4e92-b9e2-632eb01a7e9b",
   "metadata": {},
   "outputs": [
    {
     "data": {
      "text/plain": [
       "20"
      ]
     },
     "execution_count": 24,
     "metadata": {},
     "output_type": "execute_result"
    }
   ],
   "source": [
    "ch1.a\n"
   ]
  },
  {
   "cell_type": "code",
   "execution_count": 25,
   "id": "3e80968c-4f54-4c7e-b8c6-a6ddd6ff0a94",
   "metadata": {},
   "outputs": [
    {
     "name": "stdout",
     "output_type": "stream",
     "text": [
      "This is child class method\n"
     ]
    }
   ],
   "source": [
    "ch1.name()"
   ]
  },
  {
   "cell_type": "code",
   "execution_count": 26,
   "id": "0e92e086-28ca-4a93-97ab-edd618fc1649",
   "metadata": {},
   "outputs": [],
   "source": [
    "# multiple inheritance\n",
    "class child2(child):\n",
    "    c = 60\n",
    "    def name(self):\n",
    "        print(\"This is child2 class method\")"
   ]
  },
  {
   "cell_type": "code",
   "execution_count": 27,
   "id": "2ff08071-0428-426a-8b03-91b87d0e5153",
   "metadata": {},
   "outputs": [],
   "source": [
    "ch2 = child2()"
   ]
  },
  {
   "cell_type": "code",
   "execution_count": 32,
   "id": "f4410a40-1011-4fcb-b011-c85d9b8647d8",
   "metadata": {},
   "outputs": [
    {
     "data": {
      "text/plain": [
       "20"
      ]
     },
     "execution_count": 32,
     "metadata": {},
     "output_type": "execute_result"
    }
   ],
   "source": [
    "ch2.a"
   ]
  },
  {
   "cell_type": "code",
   "execution_count": 31,
   "id": "25e9abcd-7568-41f5-adbc-5c430462ba82",
   "metadata": {},
   "outputs": [
    {
     "data": {
      "text/plain": [
       "40"
      ]
     },
     "execution_count": 31,
     "metadata": {},
     "output_type": "execute_result"
    }
   ],
   "source": [
    "ch2.b"
   ]
  },
  {
   "cell_type": "code",
   "execution_count": 40,
   "id": "5b12bd08-2350-460c-8955-5d49e75b2227",
   "metadata": {},
   "outputs": [
    {
     "name": "stdout",
     "output_type": "stream",
     "text": [
      "This is child2 class method\n"
     ]
    }
   ],
   "source": [
    "ch2.name()"
   ]
  },
  {
   "cell_type": "code",
   "execution_count": 41,
   "id": "e7c72af7-6406-403d-baa7-e3c06cbc126a",
   "metadata": {},
   "outputs": [],
   "source": [
    "# Multilevel \n",
    "class p:\n",
    "    a = 20\n",
    "    def name(self):\n",
    "        print(\"This is P class method\")\n",
    "\n",
    "class c:\n",
    "    a = 2\n",
    "    def name(self):\n",
    "        print(\"This is c class method\")"
   ]
  },
  {
   "cell_type": "code",
   "execution_count": 43,
   "id": "fdb2b406-e7bd-40b3-a08c-0b9969f8aea9",
   "metadata": {},
   "outputs": [],
   "source": [
    "class a(p,c):\n",
    "    pass"
   ]
  },
  {
   "cell_type": "code",
   "execution_count": 44,
   "id": "888bf251-2a83-43d3-bd3a-71822f891fc9",
   "metadata": {},
   "outputs": [],
   "source": [
    "aa = a()"
   ]
  },
  {
   "cell_type": "code",
   "execution_count": 45,
   "id": "b9deab89-70a4-4e32-b985-e32e95afdcf1",
   "metadata": {},
   "outputs": [
    {
     "data": {
      "text/plain": [
       "20"
      ]
     },
     "execution_count": 45,
     "metadata": {},
     "output_type": "execute_result"
    }
   ],
   "source": [
    "aa.a"
   ]
  },
  {
   "cell_type": "code",
   "execution_count": null,
   "id": "79ae9698-a0f4-42c0-a0df-cb019a34c2bf",
   "metadata": {},
   "outputs": [],
   "source": []
  }
 ],
 "metadata": {
  "kernelspec": {
   "display_name": "Python 3 (ipykernel)",
   "language": "python",
   "name": "python3"
  },
  "language_info": {
   "codemirror_mode": {
    "name": "ipython",
    "version": 3
   },
   "file_extension": ".py",
   "mimetype": "text/x-python",
   "name": "python",
   "nbconvert_exporter": "python",
   "pygments_lexer": "ipython3",
   "version": "3.11.4"
  },
  "widgets": {
   "application/vnd.jupyter.widget-state+json": {
    "state": {},
    "version_major": 2,
    "version_minor": 0
   }
  }
 },
 "nbformat": 4,
 "nbformat_minor": 5
}
